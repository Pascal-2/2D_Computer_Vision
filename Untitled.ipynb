{
 "cells": [
  {
   "cell_type": "markdown",
   "id": "cbc2e526-f389-439f-b920-bf2cba584ad5",
   "metadata": {},
   "source": [
    "Beantworten Sie folgende Fragen:\n",
    "a) Was ist eine Kante und wie ist sie im Bild, in dessen Ableitung erkennbar?\n",
    "Im Bild ist es ein Übergang in der Helligkeit. \n",
    "In der Ableitung ist es die Stelle mit lokal größter Steigung.\n",
    "Die Kante verläuft orthogonal zum Gradienten. \n",
    "    \n",
    "b) Was sind die partiellen Ableitungen eines Bildes? Was sagen sie aus?\n",
    "Die Steigung in x und y Richtung.\n",
    "\n",
    "c) Was ist der Gradientenvektor (kurz: Gradient) eines Bildes?\n",
    "Er gibt die Richtung und Stärke des stärksten Anstiegs von Helligkeiten an einem Pixel an.\n",
    "d) Wie kann die Kantenst¨arke berechnet werden?\n",
    "$$E(u, v) = \\sqrt{ D_{ x }^2 + D_{ y }^2 }$$\n",
    "e) Wie kann die lokale Kantenrichtung berechnet werden?\n",
    "$$\\Phi{u, v} = \\arctan(\\frac{D_{y}}{D_{x}})$$"
   ]
  },
  {
   "cell_type": "code",
   "execution_count": 44,
   "id": "65fb3156-9a7e-44bc-a273-872b484d707a",
   "metadata": {},
   "outputs": [],
   "source": [
    "import numpy as np\n",
    "import matplotlib.pyplot as plt\n",
    "from skimage import io\n",
    "import time\n",
    "\n"
   ]
  },
  {
   "cell_type": "code",
   "execution_count": 45,
   "id": "71f05b6a-0fde-469c-a19e-6941be67fc19",
   "metadata": {},
   "outputs": [],
   "source": [
    "def rgb_2_gray(img, mode='lut'):\n",
    "    if mode == 'lut':\n",
    "        return np.array(np.round(img[:,:,0] * 0.2126 + img[:,:,1] * 0.7152 + img[:,:,2] * 0.0722), dtype=np.uint8)\n",
    "    else:\n",
    "        return np.array(np.round(img[:,:,0] * 0.2126 + img[:,:,1] * 0.587 + img[:,:,2] * 0.114), dtype=np.uint8)\n",
    "    \n"
   ]
  },
  {
   "cell_type": "code",
   "execution_count": 46,
   "id": "639f1db7-0630-4c6f-aea2-ba0d2fb91122",
   "metadata": {},
   "outputs": [],
   "source": [
    "\n",
    "def sobel(img, filter):\n",
    "    # TODO: implement sobel filtering e.g. with 4 foor loops\n",
    "    if len(filter) != 3 or len(filter[0]) != 3:\n",
    "        print(\"invalid Filter\")\n",
    "        return\n",
    "    \n",
    "    if len(np.shape(img)) == 3:\n",
    "        gray = rgb_2_gray(img)\n",
    "    else:\n",
    "        gray = img\n",
    "    \n",
    "    filtered_img = np.zeros((gray.shape[0]-2, gray.shape[1]-2), dtype=np.float64)\n",
    "\n",
    "    for i in range(1, len(filtered_img)):\n",
    "        for j in range(1, len(filtered_img[0])):\n",
    "            \n",
    "            for k in range(i - 1, i + 2):\n",
    "                for l in range(j - 1, j + 2):\n",
    "                    filtered_img[i][j] += int(gray[k][l]) * filter[k - i + 1][l - j + 1]\n",
    "            filtered_img[i][j] /= 8\n",
    "    return filtered_img"
   ]
  },
  {
   "cell_type": "code",
   "execution_count": 57,
   "id": "ee1c7003-9a8a-441a-8135-2609672a94cb",
   "metadata": {},
   "outputs": [],
   "source": [
    "def sep_sobel(img, filter):\n",
    "    if len(np.shape(img)) == 3:\n",
    "        gray = rgb_2_gray(img)\n",
    "    else:\n",
    "        gray = img\n",
    "    filter1, filter2 = filter\n",
    "\n",
    "    filtered_img = np.zeros((gray.shape[0] - 2, gray.shape[1]), dtype=np.float64)\n",
    "    \n",
    "    for i in range(1, len(gray) - 1):\n",
    "        for j in range(len(gray[0])):\n",
    "            \n",
    "            for k in range(i - 1, i + 2):\n",
    "                filtered_img[i - 1][j] += int(gray[k][j]) * filter1[k - i + 1]\n",
    "    filtered_img2 = np.zeros((gray.shape[0] - 2, gray.shape[1] - 2), dtype=np.float64)\n",
    "    for i in range(len(filtered_img)):\n",
    "        for j in range(1, len(gray[0]) - 1):\n",
    "            \n",
    "            for l in range(j - 1, j + 2):\n",
    "                filtered_img2[i][j - 1] += int(filtered_img[i][l]) * filter2[l - j + 1]\n",
    "    filtered_img2 /= 8\n",
    "            \n",
    "    return filtered_img2\n",
    "    "
   ]
  },
  {
   "cell_type": "code",
   "execution_count": 62,
   "id": "0334494d-51d3-4507-b741-9c3d60e9d5a6",
   "metadata": {},
   "outputs": [
    {
     "name": "stdout",
     "output_type": "stream",
     "text": [
      "Duration in milliseconds:  5192.609071731567\n",
      "Duration in milliseconds:  4729.07567024231\n"
     ]
    }
   ],
   "source": [
    "img = io.imread(\"lena.jpg\")\n",
    "gray = rgb_2_gray(img)\n",
    "\n",
    "height, width = gray.shape\n",
    "\n",
    "# TODO: define filter in x in y direction\n",
    "filter_x = [\n",
    "    [1, 2, 1],\n",
    "    [0, 0, 0],\n",
    "    [-1, -2, -1]\n",
    "]\n",
    "\n",
    "filter_y = [\n",
    "    [1, 0, -1],\n",
    "    [2, 0, -2],\n",
    "    [1, 0, -1]\n",
    "]\n",
    "\n",
    "\n",
    "start = time.time()\n",
    "# TODO: filter image in x direction (sobel(gray, filter_x))\n",
    "sobel_x = sobel(gray, filter_x)\n",
    "end = time.time()\n",
    "duration = end-start\n",
    "print(\"Duration in milliseconds: \", duration*1000)\n",
    "\n",
    "start = time.time()\n",
    "# TODO: filter image in y direction (sobel(gray, filter_y))\n",
    "sobel_y = sobel(gray, filter_y)\n",
    "end = time.time()\n",
    "duration = end-start\n",
    "print(\"Duration in milliseconds: \", duration*1000)\n",
    "\n",
    "\n",
    "# TODO compute Gradient magnitude"
   ]
  },
  {
   "cell_type": "code",
   "execution_count": 59,
   "id": "e866717c-784c-446c-9e56-6c82de050c4e",
   "metadata": {},
   "outputs": [],
   "source": [
    "def gradient_magnitude(img_x, img_y):\n",
    "    return np.array(np.sqrt(np.pow(img_x, 2) + np.pow(img_y, 2)), dtype=np.uint8)"
   ]
  },
  {
   "cell_type": "code",
   "execution_count": 60,
   "id": "abaa548c-9dce-409b-b0b3-bd32030ce55a",
   "metadata": {},
   "outputs": [
    {
     "name": "stdout",
     "output_type": "stream",
     "text": [
      "Duration in milliseconds:  3008.54229927063\n",
      "Duration in milliseconds:  3081.7432403564453\n"
     ]
    }
   ],
   "source": [
    "img = io.imread(\"lena.jpg\")\n",
    "gray = rgb_2_gray(img)\n",
    "\n",
    "height, width = gray.shape\n",
    "\n",
    "# TODO: define filter in x in y direction\n",
    "sep_filter_x = ([1, 2, 1], [1, 0, -1])\n",
    "\n",
    "sep_filter_y = ([1, 0, -1], [1, 2, 1])\n",
    "\n",
    "\n",
    "start = time.time()\n",
    "# TODO: filter image in x direction (sobel(gray, filter_x))\n",
    "sobel_x_sep = sep_sobel(gray, sep_filter_x)\n",
    "end = time.time()\n",
    "duration = end-start\n",
    "print(\"Duration in milliseconds: \", duration*1000)\n",
    "\n",
    "start = time.time()\n",
    "# TODO: filter image in y direction (sobel(gray, filter_y))\n",
    "sobel_y_sep = sep_sobel(gray, sep_filter_y)\n",
    "end = time.time()\n",
    "duration = end-start\n",
    "print(\"Duration in milliseconds: \", duration*1000)\n",
    "\n",
    "\n",
    "# TODO compute Gradient magnitude"
   ]
  },
  {
   "cell_type": "code",
   "execution_count": 61,
   "id": "a84df372-8f33-4bc8-9d19-4e8299bf6721",
   "metadata": {},
   "outputs": [],
   "source": [
    "sobel_xy = gradient_magnitude(sobel_x, sobel_y)\n",
    "io.imsave(\"lena.jpeg\", sobel_xy)\n",
    "\n",
    "sobel_xy_sep = gradient_magnitude(sobel_x_sep, sobel_y_sep)\n",
    "io.imsave(\"lena_sep.jpeg\", sobel_xy_sep)"
   ]
  },
  {
   "cell_type": "code",
   "execution_count": null,
   "id": "1fa3cbce-07d4-4698-b27f-cbc84d159311",
   "metadata": {},
   "outputs": [],
   "source": [
    "import sobel_demo as nd\n",
    "import numpy as np\n",
    "from skimage import io\n",
    "import matplotlib.pyplot as plt\n",
    "import time\n",
    "\n",
    "\n",
    "def rgb_2_gray(img, mode='lut'):\n",
    "    if mode == 'lut':\n",
    "        return np.round(img[:,:,0] * 0.2126 + img[:,:,1] * 0.7152 + img[:,:,2] * 0.0722)\n",
    "    else:\n",
    "        return np.round(img[:,:,0] * 0.2126 + img[:,:,1] * 0.587 + img[:,:,2] * 0.114)\n",
    "\n",
    "\n",
    "img = io.imread(\"lena.jpg\")\n",
    "gray = rgb_2_gray(img).astype(\"float64\")\n",
    "\n",
    "# TODO: define filters in x in y direction\n",
    "\n",
    "start = time.time()\n",
    "# TODO: filter image in x direction (nd.sobel(gray, filter_x))\n",
    "sobel_x = nd.sobel(gray, True)\n",
    "end = time.time()\n",
    "duration = end-start\n",
    "print(\"Duration in milliseconds: \", duration*1000)\n",
    "\n",
    "\n",
    "start = time.time()\n",
    "# TODO: filter image in y direction (nd.sobel(gray, filter_y))\n",
    "sobel_y = nd.sobel(gray, False)\n",
    "end = time.time()\n",
    "duration = end-start\n",
    "print(\"Duration in milliseconds: \", duration*1000)\n",
    "\n",
    "# TODO compute Gradient magnitude"
   ]
  }
 ],
 "metadata": {
  "kernelspec": {
   "display_name": "Python 3 (ipykernel)",
   "language": "python",
   "name": "python3"
  },
  "language_info": {
   "codemirror_mode": {
    "name": "ipython",
    "version": 3
   },
   "file_extension": ".py",
   "mimetype": "text/x-python",
   "name": "python",
   "nbconvert_exporter": "python",
   "pygments_lexer": "ipython3",
   "version": "3.12.8"
  }
 },
 "nbformat": 4,
 "nbformat_minor": 5
}
