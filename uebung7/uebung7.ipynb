{
 "cells": [
  {
   "cell_type": "code",
   "id": "initial_id",
   "metadata": {
    "collapsed": true,
    "ExecuteTime": {
     "end_time": "2025-05-21T13:23:38.994369Z",
     "start_time": "2025-05-21T13:23:38.990719Z"
    }
   },
   "source": [
    "import cv2\n",
    "import numpy as np\n",
    "import matplotlib.pyplot as plt"
   ],
   "outputs": [],
   "execution_count": 79
  },
  {
   "metadata": {
    "ExecuteTime": {
     "end_time": "2025-05-21T13:23:39.058086Z",
     "start_time": "2025-05-21T13:23:39.047747Z"
    }
   },
   "cell_type": "code",
   "source": [
    "img1 = [\n",
    "    [0, 0, 0, 0, 0, 0, 0, 0, 0, 0, 0, 0, 0, 0],\n",
    "    [0, 0, 0, 0, 0, 1, 1, 0, 0, 1, 1, 0, 1, 0],\n",
    "    [0, 1, 1, 1, 1, 1, 1, 0, 0, 1, 0, 0, 1, 0],\n",
    "    [0, 0, 0, 0, 1, 0, 1, 0, 0, 0, 0, 0, 1, 0],\n",
    "    [0, 1, 1, 1, 1, 1, 1, 1, 1, 1, 1, 1, 1, 0],\n",
    "    [0, 0, 0, 0, 1, 1, 1, 1, 1, 1, 1, 1, 1, 0],\n",
    "    [0, 1, 1, 0, 0, 0, 1, 0, 1, 0, 0, 0, 0, 0],\n",
    "    [0, 0, 0, 0, 0, 0, 0, 0, 0, 0, 0, 0, 0, 0]\n",
    "]\n",
    "\n",
    "#for x in img:\n",
    "#    print(x)\n",
    "#print()\n",
    "\n",
    "def mark(img):\n",
    "    cur = 2\n",
    "    dirs = [(0, -1), (-1, -1), (-1, 0), (-1, 1)]\n",
    "    graph = dict()\n",
    "    for i in range(len(img)):\n",
    "        for j in range(len(img[0])):\n",
    "            px = img[i][j]\n",
    "            if px == 1:\n",
    "                nachbarn = set()\n",
    "                nachbarn_l = []\n",
    "                for d in dirs:\n",
    "                    ni = i + d[0]\n",
    "                    nj = j + d[1]\n",
    "                    if 0 <= ni < len(img) and 0 <= nj < len(img[0]):\n",
    "                        if img[ni][nj] > 1:\n",
    "                            nachbarn.add(img[ni][nj])\n",
    "                            nachbarn_l.append(img[ni][nj])\n",
    "                if len(nachbarn) == 0:\n",
    "                    graph[cur] = set()\n",
    "                    img[i][j] = cur\n",
    "                    cur += 1\n",
    "                elif len(nachbarn) == 1:\n",
    "                    img[i][j] = nachbarn_l[0]\n",
    "                else:\n",
    "                    img[i][j] = nachbarn_l[0]\n",
    "                    for x in nachbarn:\n",
    "                        graph[x].update(y for y in nachbarn if y != x)\n",
    "\n",
    "    #for x in img:\n",
    "    #    print(x)\n",
    "    #print()\n",
    "    #print(graph)\n",
    "    #print()\n",
    "    return build_sets(graph)\n",
    "\n",
    "def build_sets(graph):\n",
    "    res = []\n",
    "    visited = set()\n",
    "    for k in graph:\n",
    "        if k in visited:\n",
    "            continue\n",
    "        cur = set()\n",
    "        dfs(cur, graph, k, visited)\n",
    "        res.append(cur)\n",
    "    return res\n",
    "\n",
    "def dfs(acc, graph, node, visited):\n",
    "    if node in visited:\n",
    "        return\n",
    "    acc.add(node)\n",
    "    visited.add(node)\n",
    "    for x in graph[node]:\n",
    "        dfs(acc, graph, x, visited)\n",
    "\n"
   ],
   "id": "fe57cc7b86ac1f3a",
   "outputs": [],
   "execution_count": 80
  },
  {
   "metadata": {
    "ExecuteTime": {
     "end_time": "2025-05-21T13:23:39.210028Z",
     "start_time": "2025-05-21T13:23:39.102526Z"
    }
   },
   "cell_type": "code",
   "source": [
    "regionen1 = cv2.imread(\"regionen1.png\", cv2.IMREAD_GRAYSCALE)\n",
    "regionen1_formatiert = np.array([[0 if x == 255 else 1 for x in row] for row in regionen1])\n",
    "regionen2 = cv2.imread(\"regionen2.png\", cv2.IMREAD_GRAYSCALE)\n",
    "regionen2_formatiert = np.array([[1 if x == 255 else 0 for x in row] for row in regionen2]) #Achtung Unterschied wegen Vorder-/Hintergrund\n",
    "\n",
    "regionen1_sets = mark(regionen1_formatiert)\n",
    "regionen2_sets = mark(regionen2_formatiert)\n",
    "\n",
    "colors = [[254, 243, 226], [200, 180, 65], [255, 178, 44], [250, 129, 47],\n",
    "          [0, 243, 226], [0, 198, 35], [0, 178, 44], [0, 129, 47],\n",
    "          [254, 0, 226], [243, 0, 35], [255, 0, 44], [250, 0, 47],\n",
    "          [254, 243, 0], [243, 255, 0], [255, 178, 0], [250, 150, 0]]\n",
    "\n",
    "def visualize_regions(img, region_sets, colors):\n",
    "    colored_result = np.zeros((len(img),len(img[0]), 3), dtype=np.uint8)\n",
    "    for i in range(len(img)):\n",
    "        for j in range(len(img[0])):\n",
    "            px = img[i][j]\n",
    "            if px != 0:\n",
    "                for k,s in enumerate(region_sets):\n",
    "                    if px in s:\n",
    "                        colored_result[i][j] = colors[k]\n",
    "\n",
    "    plt.imshow(colored_result)\n",
    "    plt.axis(\"off\")\n",
    "    plt.show()\n",
    "\n",
    "visualize_regions(img1, mark(img1), colors)\n",
    "visualize_regions(regionen1_formatiert, regionen1_sets, colors)\n",
    "visualize_regions(regionen2_formatiert, regionen2_sets, colors)\n",
    "\n",
    "\n"
   ],
   "id": "79d1cc1ad39cd9d4",
   "outputs": [
    {
     "data": {
      "text/plain": [
       "<Figure size 640x480 with 1 Axes>"
      ],
      "image/png": "[encoded data removed]"
     },
     "metadata": {},
     "output_type": "display_data"
    },
    {
     "data": {
      "text/plain": [
       "<Figure size 640x480 with 1 Axes>"
      ],
      "image/png": "[encoded data removed]"
     },
     "metadata": {},
     "output_type": "display_data"
    },
    {
     "data": {
      "text/plain": [
       "<Figure size 640x480 with 1 Axes>"
      ],
      "image/png": "[encoded data removed]"
     },
     "metadata": {},
     "output_type": "display_data"
    }
   ],
   "execution_count": 81
  },
  {
   "metadata": {
    "ExecuteTime": {
     "end_time": "2025-05-21T13:23:39.254673Z",
     "start_time": "2025-05-21T13:23:39.224063Z"
    }
   },
   "cell_type": "code",
   "source": [
    "my_craft = [\n",
    "    [0, 1, 0, 1, 1, 0, 1, 0, 0, 0, 0, 0, 0, 0],\n",
    "    [1, 1, 0, 0, 0, 1, 0, 0, 0, 0, 0, 0, 0, 0],\n",
    "    [0, 0, 0, 0, 1, 0, 0, 0, 0, 0, 1, 1, 1, 0],\n",
    "    [1, 0, 0, 1, 0, 0, 1, 1, 0, 0, 1, 1, 1, 1],\n",
    "    [0, 0, 1, 0, 0, 1, 1, 1, 1, 0, 1, 1, 1, 0],\n",
    "    [0, 1, 0, 0, 0, 1, 1, 1, 1, 0, 1, 1, 1, 0],\n",
    "    [1, 0, 0, 0, 0, 1, 0, 0, 1, 0, 0, 1, 0, 0],\n",
    "    [0, 0, 0, 0, 0, 1, 0, 0, 1, 0, 0, 1, 0, 0]\n",
    "]\n",
    "\n",
    "visualize_regions(my_craft, mark(my_craft), colors)"
   ],
   "id": "fd820c17d0522377",
   "outputs": [
    {
     "data": {
      "text/plain": [
       "<Figure size 640x480 with 1 Axes>"
      ],
      "image/png": "[encoded data removed]"
     },
     "metadata": {},
     "output_type": "display_data"
    }
   ],
   "execution_count": 82
  },
  {
   "metadata": {
    "ExecuteTime": {
     "end_time": "2025-05-21T13:23:39.281934Z",
     "start_time": "2025-05-21T13:23:39.279822Z"
    }
   },
   "cell_type": "code",
   "source": "",
   "id": "5a8c85fd70dd8eb3",
   "outputs": [],
   "execution_count": null
  }
 ],
 "metadata": {
  "kernelspec": {
   "display_name": "Python 3",
   "language": "python",
   "name": "python3"
  },
  "language_info": {
   "codemirror_mode": {
    "name": "ipython",
    "version": 2
   },
   "file_extension": ".py",
   "mimetype": "text/x-python",
   "name": "python",
   "nbconvert_exporter": "python",
   "pygments_lexer": "ipython2",
   "version": "2.7.6"
  }
 },
 "nbformat": 4,
 "nbformat_minor": 5
}
